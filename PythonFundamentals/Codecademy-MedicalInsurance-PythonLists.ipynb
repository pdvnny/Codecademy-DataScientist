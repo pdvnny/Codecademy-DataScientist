{
 "cells": [
  {
   "cell_type": "markdown",
   "id": "ab0008d2",
   "metadata": {},
   "source": [
    "## Copyright 2021 Parker Dunn parker_dunn@outlook.com\n",
    "  \n",
    "#### Alternate: pgdunn@bu.edu & pdunn91@gmail.com   \n",
    "#### September 3rd, 2021  \n",
    "  \n",
    "__Career Path: Data Scientist__  \n",
    "__Section: Python Fundamentals__   \n",
    "__Topic: Python Lists__  \n",
    "\n",
    "\n",
    "### Codecademy - Medical Insurance Project"
   ]
  },
  {
   "cell_type": "markdown",
   "id": "7318a008",
   "metadata": {},
   "source": [
    "### Assignment Context\n",
    "\n",
    "This mini-project is meant to be a demonstration of some fundamentals of Python. I am trying to complete the data scientist path on Codecademy and practice Python, so I have gone back to some content that I have learned already with the specific interest of completing the projects for practice.\n",
    "\n",
    "This is a follow-up project to three that I have already completed relating to medical insurance. To review the basics of Syntax, Varible Types, Functions, Control Flow, and Python lists, I have been working on a single project related to \"Medical Insurance.\" I have started this new script to keep neat work spaces.\n",
    "\n",
    "### Assignment Description\n",
    "\n",
    "\"In this project, you will examine how factors such as age, sex, BMI, number of children, and smoking status contribute to medical insurance costs.\n",
    "\n",
    "You will apply your new knowledge of Python Lists to store insurance cost data in a list as well as compare estimated insurance costs to actual insurance costs.\""
   ]
  },
  {
   "cell_type": "code",
   "execution_count": 1,
   "id": "f5a0731f",
   "metadata": {},
   "outputs": [
    {
     "name": "stdout",
     "output_type": "stream",
     "text": [
      "Maria's Estimated Insurance Cost: 4222.0 dollars.\n",
      "Rohan's Estimated Insurance Cost: 5442.0 dollars.\n",
      "Valentina's Estimated Insurance Cost: 36368.0 dollars.\n"
     ]
    }
   ],
   "source": [
    "# Functions and code that were previously developed or were provided - may have been modified during the assignment\n",
    "\n",
    "# Function to estimate insurance cost:\n",
    "def estimate_insurance_cost(name, age, sex, bmi, num_of_children, smoker):\n",
    "  estimated_cost = 250*age - 128*sex + 370*bmi + 425*num_of_children + 24000*smoker - 12500\n",
    "  print(name + \"'s Estimated Insurance Cost: \" + str(estimated_cost) + \" dollars.\")\n",
    "  return estimated_cost\n",
    " \n",
    "# Estimate Maria's insurance cost\n",
    "maria_insurance_cost = estimate_insurance_cost(name = \"Maria\", age = 31, sex = 0, bmi = 23.1, num_of_children = 1, smoker = 0)\n",
    "\n",
    "# Estimate Rohan's insurance cost\n",
    "rohan_insurance_cost = estimate_insurance_cost(name = \n",
    "\"Rohan\", age = 25, sex = 1, bmi = 28.5, num_of_children = 3, smoker = 0)\n",
    "\n",
    "# Estimate Valentina's insurance cost\n",
    "valentina_insurance_cost = estimate_insurance_cost(name = \"Valentina\", age = 53, sex = 0, bmi = 31.4, num_of_children = 0, smoker = 1)"
   ]
  },
  {
   "cell_type": "code",
   "execution_count": 2,
   "id": "31c489be",
   "metadata": {},
   "outputs": [
    {
     "name": "stdout",
     "output_type": "stream",
     "text": [
      "[('Maria', 4150.0), ('Rohan', 5320.0), ('Valentina', 35210.0)]\n",
      "[['Maria', 4222.0], ['Rohan', 5442.0], ['Valentina', 36368.0]]\n"
     ]
    }
   ],
   "source": [
    "# Asked to compare estimated insurance costs with true values for\n",
    "# the individuals above\n",
    "names = [\"Maria\", \"Rohan\", \"Valentina\"]\n",
    "insurance_costs = [4150.0, 5320.0, 35210.0] #actual amounts that everyone paid\n",
    "insurance_data = list(zip(names, insurance_costs))\n",
    "print(insurance_data)\n",
    "\n",
    "estimated_insurance_data = []\n",
    "estimated_insurance_data.append([\"Maria\", maria_insurance_cost])\n",
    "estimated_insurance_data.append([\"Rohan\", rohan_insurance_cost])\n",
    "estimated_insurance_data.append([\"Valentina\", valentina_insurance_cost])\n",
    "print(estimated_insurance_data)\n",
    "\n",
    "# INSPECTING THE DATA\n",
    "\n",
    "#more to come...."
   ]
  },
  {
   "cell_type": "code",
   "execution_count": 4,
   "id": "bcef97f3",
   "metadata": {},
   "outputs": [
    {
     "name": "stdout",
     "output_type": "stream",
     "text": [
      "[72.0, 122.0, 1158.0]\n",
      "The estimated cost for Maria, Rohan, and Valentina compared to the actual insurance cost.\n",
      "Maria: 72.0\n",
      "Rohan: 122.0\n",
      "Valentina: 1158.0\n"
     ]
    }
   ],
   "source": [
    "# INSPECTING THE DATA\n",
    "\n",
    "estimated_cost_diff_vs_actual_cost = [estimated_insurance_data[i][1] - insurance_data[i][1] for i in range(len(insurance_data))]\n",
    "\n",
    "print(estimated_cost_diff_vs_actual_cost)\n",
    "\n",
    "print(\"The estimated cost for Maria, Rohan, and Valentina compared to the actual insurance cost.\")\n",
    "for i in range(len(names)):\n",
    "  print(names[i] + \": \" + str(estimated_cost_diff_vs_actual_cost[i]))\n"
   ]
  },
  {
   "cell_type": "markdown",
   "id": "576894e1",
   "metadata": {},
   "source": [
    "### Conclusions\n",
    "\n",
    "It looks like the estimates are all too high for the function and data provided. It's a limited sample size (ignoring that it's made up data too), so the results would not tell someone very much about the estimated insurance system.  \n",
    "  \n",
    "The reality is that even if this data was real it wouldn't provide much insight yet. I would need some more client data and probably a more input information to make an insurance cost estimation."
   ]
  }
 ],
 "metadata": {
  "kernelspec": {
   "display_name": "Python 3",
   "language": "python",
   "name": "python3"
  },
  "language_info": {
   "codemirror_mode": {
    "name": "ipython",
    "version": 3
   },
   "file_extension": ".py",
   "mimetype": "text/x-python",
   "name": "python",
   "nbconvert_exporter": "python",
   "pygments_lexer": "ipython3",
   "version": "3.9.5"
  }
 },
 "nbformat": 4,
 "nbformat_minor": 5
}
