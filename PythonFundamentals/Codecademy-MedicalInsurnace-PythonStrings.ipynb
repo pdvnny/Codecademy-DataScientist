{
 "cells": [
  {
   "cell_type": "markdown",
   "id": "7057c917",
   "metadata": {},
   "source": [
    "## Copyright 2021 Parker Dunn parker_dunn@outlook.com\n",
    "  \n",
    "#### Alternate: pgdunn@bu.edu & pdunn91@gmail.com   \n",
    "#### November 11th, 2021  \n",
    "  \n",
    "__Career Path: Data Scientist__  \n",
    "__Section: Python Fundamentals__   \n",
    "__Topic: Python Strings__  \n",
    "\n",
    "\n",
    "### Codecademy - Medical Insurance "
   ]
  },
  {
   "cell_type": "markdown",
   "id": "b1ff5cea",
   "metadata": {},
   "source": [
    "### Assignment Context\n",
    "\n",
    "This mini-project is meant to be a demonstration of some fundamentals of Python. I am trying to complete the data scientist path on Codecademy and practice Python, so I have gone back to some content that I have learned already.\n",
    "\n",
    "### Assignment Description\n",
    "\n",
    "\"You are a doctor who needs to clean up medical patient records, which are currently stored in one large string.\n",
    "\n",
    "In this project, you will use your new knowledge of Python strings to obtain and clean up medic data so that it is easier to read and analyze.\""
   ]
  },
  {
   "cell_type": "code",
   "execution_count": 1,
   "id": "cfcf4770",
   "metadata": {},
   "outputs": [
    {
     "name": "stdout",
     "output_type": "stream",
     "text": [
      "Marina Allison   ,27   ,   31.1 , \n",
      "#7010.0   ;Markus Valdez   ,   30, \n",
      "22.4,   #4050.0 ;Connie Ballard ,43 \n",
      ",   25.3 , #12060.0 ;Darnell Weber   \n",
      ",   35   , 20.6   , #7500.0;\n",
      "Sylvie Charles   ,22, 22.1 \n",
      ",#3022.0   ;   Vinay Padilla,24,   \n",
      "26.9 ,#4620.0 ;Meredith Santiago, 51   , \n",
      "29.3 ,#16330.0;   Andre Mccarty, \n",
      "19,22.7 , #2900.0 ; \n",
      "Lorena Hodson ,65, 33.1 , #19370.0; \n",
      "Isaac Vu ,34, 24.8,   #7045.0 \n",
      "\n"
     ]
    }
   ],
   "source": [
    "medical_data = \\\n",
    "\"\"\"Marina Allison   ,27   ,   31.1 , \n",
    "#7010.0   ;Markus Valdez   ,   30, \n",
    "22.4,   #4050.0 ;Connie Ballard ,43 \n",
    ",   25.3 , #12060.0 ;Darnell Weber   \n",
    ",   35   , 20.6   , #7500.0;\n",
    "Sylvie Charles   ,22, 22.1 \n",
    ",#3022.0   ;   Vinay Padilla,24,   \n",
    "26.9 ,#4620.0 ;Meredith Santiago, 51   , \n",
    "29.3 ,#16330.0;   Andre Mccarty, \n",
    "19,22.7 , #2900.0 ; \n",
    "Lorena Hodson ,65, 33.1 , #19370.0; \n",
    "Isaac Vu ,34, 24.8,   #7045.0\"\"\"\n",
    "\n",
    "# Add your code here\n",
    "print(medical_data,\"\\n\")"
   ]
  },
  {
   "cell_type": "code",
   "execution_count": 8,
   "id": "04065ca8",
   "metadata": {},
   "outputs": [
    {
     "name": "stdout",
     "output_type": "stream",
     "text": [
      "\n",
      "There are 10 medical records in the data.\n",
      "\n"
     ]
    }
   ],
   "source": [
    "updated_medical_data = medical_data.replace(\"#\",\"$\")\n",
    "#print(updated_medical_data)\n",
    "\n",
    "num_records = 0\n",
    "for character in updated_medical_data:\n",
    "  if (character == \"$\"):\n",
    "    num_records += 1\n",
    "\n",
    "print(\"\\nThere are {num_records} medical records in the data.\\n\".format(num_records = num_records))"
   ]
  },
  {
   "cell_type": "code",
   "execution_count": 3,
   "id": "acb5c50f",
   "metadata": {},
   "outputs": [
    {
     "name": "stdout",
     "output_type": "stream",
     "text": [
      "Here is a sample medical record once they have been spearated: Marina Allison   ,27   ,   31.1 , \n",
      "$7010.0   \n",
      "\n",
      "Here are the uncleaned medical records as lists:\n",
      " [['Marina Allison   ', '27   ', '   31.1 ', ' \\n$7010.0   '], ['Markus Valdez   ', '   30', ' \\n22.4', '   $4050.0 '], ['Connie Ballard ', '43 \\n', '   25.3 ', ' $12060.0 '], ['Darnell Weber   \\n', '   35   ', ' 20.6   ', ' $7500.0'], ['\\nSylvie Charles   ', '22', ' 22.1 \\n', '$3022.0   '], ['   Vinay Padilla', '24', '   \\n26.9 ', '$4620.0 '], ['Meredith Santiago', ' 51   ', ' \\n29.3 ', '$16330.0'], ['   Andre Mccarty', ' \\n19', '22.7 ', ' $2900.0 '], [' \\nLorena Hodson ', '65', ' 33.1 ', ' $19370.0'], [' \\nIsaac Vu ', '34', ' 24.8', '   $7045.0']]\n"
     ]
    }
   ],
   "source": [
    "medical_data_split = updated_medical_data.split(\";\")\n",
    "print(\"Here is a sample medical record once they have been spearated: {}\"\\\n",
    "                                  .format(medical_data_split[0]))\n",
    "\n",
    "medical_records = []\n",
    "for rec in medical_data_split:\n",
    "  medical_records.append(rec.split(\",\"))\n",
    "print(\"\\nHere are the uncleaned medical records as lists:\\n\",medical_records)"
   ]
  },
  {
   "cell_type": "code",
   "execution_count": 4,
   "id": "c095821c",
   "metadata": {},
   "outputs": [
    {
     "name": "stdout",
     "output_type": "stream",
     "text": [
      "\n",
      "Here are the cleaned medical records:\n",
      "['Marina Allison', '27', '31.1', '$7010.0']\n",
      "['Markus Valdez', '30', '22.4', '$4050.0']\n",
      "['Connie Ballard', '43', '25.3', '$12060.0']\n",
      "['Darnell Weber', '35', '20.6', '$7500.0']\n",
      "['Sylvie Charles', '22', '22.1', '$3022.0']\n",
      "['Vinay Padilla', '24', '26.9', '$4620.0']\n",
      "['Meredith Santiago', '51', '29.3', '$16330.0']\n",
      "['Andre Mccarty', '19', '22.7', '$2900.0']\n",
      "['Lorena Hodson', '65', '33.1', '$19370.0']\n",
      "['Isaac Vu', '34', '24.8', '$7045.0']\n"
     ]
    }
   ],
   "source": [
    "medical_records_clean = []\n",
    "for rec in medical_records:\n",
    "  record_clean = []\n",
    "  for info in rec:\n",
    "    record_clean.append(info.strip())\n",
    "  medical_records_clean.append(record_clean)\n",
    "print(\"\\nHere are the cleaned medical records:\")\n",
    "for rec in medical_records_clean:\n",
    "  print(rec)"
   ]
  },
  {
   "cell_type": "code",
   "execution_count": 5,
   "id": "4a185f70",
   "metadata": {},
   "outputs": [
    {
     "name": "stdout",
     "output_type": "stream",
     "text": [
      "\n",
      "Here are the names of the individuals in the medical records:\n",
      "MARINA ALLISON\n",
      "MARKUS VALDEZ\n",
      "CONNIE BALLARD\n",
      "DARNELL WEBER\n",
      "SYLVIE CHARLES\n",
      "VINAY PADILLA\n",
      "MEREDITH SANTIAGO\n",
      "ANDRE MCCARTY\n",
      "LORENA HODSON\n",
      "ISAAC VU\n"
     ]
    }
   ],
   "source": [
    "print(\"\\nHere are the names of the individuals in the medical records:\")\n",
    "for record in medical_records_clean:\n",
    "  print(record[0].upper())"
   ]
  },
  {
   "cell_type": "code",
   "execution_count": 6,
   "id": "c6691cd5",
   "metadata": {},
   "outputs": [
    {
     "name": "stdout",
     "output_type": "stream",
     "text": [
      "\n",
      "Printing now.\n",
      "\n",
      "Names: ['Marina Allison', 'Markus Valdez', 'Connie Ballard', 'Darnell Weber', 'Sylvie Charles', 'Vinay Padilla', 'Meredith Santiago', 'Andre Mccarty', 'Lorena Hodson', 'Isaac Vu']\n",
      "\n",
      "Ages: ['27', '30', '43', '35', '22', '24', '51', '19', '65', '34']\n",
      "\n",
      "BMIs: ['31.1', '22.4', '25.3', '20.6', '22.1', '26.9', '29.3', '22.7', '33.1', '24.8']\n",
      "\n",
      "Insurance Costs: ['$7010.0', '$4050.0', '$12060.0', '$7500.0', '$3022.0', '$4620.0', '$16330.0', '$2900.0', '$19370.0', '$7045.0']\n"
     ]
    }
   ],
   "source": [
    "names = []\n",
    "ages = []\n",
    "bmis = []\n",
    "insurance_costs = []\n",
    "lst_of_lsts = [names, ages, bmis, insurance_costs]\n",
    "for record in medical_records_clean:\n",
    "  for i in range(4):\n",
    "    lst_of_lsts[i].append(record[i])\n",
    "\n",
    "print(\"\\nPrinting now.\")\n",
    "print_names = [\"\\nNames:\", \"\\nAges:\", \"\\nBMIs:\", \"\\nInsurance Costs:\"]\n",
    "for i in range(4):\n",
    "  print(print_names[i], lst_of_lsts[i])"
   ]
  },
  {
   "cell_type": "code",
   "execution_count": 7,
   "id": "be72872a",
   "metadata": {},
   "outputs": [
    {
     "name": "stdout",
     "output_type": "stream",
     "text": [
      "\n",
      "Average BMI: 25.83\n",
      "\n",
      "Average insurance cost: 8390.70\n"
     ]
    }
   ],
   "source": [
    "total_bmi = 0\n",
    "for bmi in bmis:\n",
    "  total_bmi += float(bmi)\n",
    "\n",
    "average_bmi = total_bmi / len(bmis)\n",
    "\n",
    "print(\"\\nAverage BMI: {average_bmi:.2f}\".format(average_bmi = average_bmi))\n",
    "\n",
    "insurance_costs_2 = [float(cost[1:]) for cost in insurance_costs]\n",
    "total_insurance_costs = sum(insurance_costs_2)\n",
    "print(\"\\nAverage insurance cost: {a:.2f}\".format(a = total_insurance_costs / len(insurance_costs)))"
   ]
  }
 ],
 "metadata": {
  "kernelspec": {
   "display_name": "Python 3",
   "language": "python",
   "name": "python3"
  },
  "language_info": {
   "codemirror_mode": {
    "name": "ipython",
    "version": 3
   },
   "file_extension": ".py",
   "mimetype": "text/x-python",
   "name": "python",
   "nbconvert_exporter": "python",
   "pygments_lexer": "ipython3",
   "version": "3.9.5"
  }
 },
 "nbformat": 4,
 "nbformat_minor": 5
}
