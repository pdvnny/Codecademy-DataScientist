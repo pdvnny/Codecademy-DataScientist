{
 "cells": [
  {
   "cell_type": "markdown",
   "id": "ba1a5c5c",
   "metadata": {},
   "source": [
    "## Copyright 2021 Parker Dunn parker_dunn@outlook.com\n",
    "  \n",
    "#### Alternate: pgdunn@bu.edu & pdunn91@gmail.com   \n",
    "#### August 22, 2021  \n",
    "  \n",
    "__Career Path: Data Scientist__  \n",
    "__Section: Python Fundamentals__   \n",
    "__Topic: Python Control Flow__  \n",
    "\n",
    "\n",
    "### Codecademy - Medical Insurance Project"
   ]
  },
  {
   "cell_type": "markdown",
   "id": "dead6552",
   "metadata": {},
   "source": [
    "### Assignment Context\n",
    "\n",
    "This mini-project is meant to be a demonstration of some fundamentals of Python. I am trying to complete the data scientist path on Codecademy and practice Python, so I have gone back to some content that I have learned already.\n",
    "\n",
    "This is a follow project to two that I have already completed. To review the basics of Syntax, Varible Types, Functions, and Control Flow, we have been working on a single project related to \"Medical Insurance.\" I have started this new script to keep neat work spaces.\n",
    "\n",
    "### Assignment Description\n",
    "\n",
    "\"In this project, you will examine how factors such as age, sex, BMI, number of children, and smoking status contribute to medical insurance costs.\n",
    "\n",
    "You will apply your knowledge of Python control flow to write code that gives people advice on how to lower their medical insurance.\""
   ]
  },
  {
   "cell_type": "code",
   "execution_count": 1,
   "id": "94044eb8",
   "metadata": {},
   "outputs": [
    {
     "name": "stdout",
     "output_type": "stream",
     "text": [
      "Keanu's Estimated Insurance Cost: 29591.0 dollars.\n",
      "To lower your cost, you should considering quitting smoking.\n",
      "Your BMI is in the overweight range. To lower your cost, you should lower your BMI.\n",
      "Lowering your BMI by 1.1999999999999993 will put your in the healthy category and lower your insurance.\n"
     ]
    }
   ],
   "source": [
    "def analyze_smoker(smoker_status):\n",
    "  if smoker_status:\n",
    "    print(\"To lower your cost, you should considering quitting smoking.\")\n",
    "  else:\n",
    "    print(\"Smoking is not an issue for you.\")\n",
    "    \n",
    "def analyze_bmi(bmi_value):\n",
    "  if bmi_value > 30:\n",
    "    print(\"Your BMI is in the obese range. To lower your cost, you should significantly lower your BMI.\")\n",
    "    print(\"Lowering your BMI by {} will put your in the healthy category and lower your insurance.\"\\\n",
    "                     .format(bmi_value - 25))\n",
    "  elif bmi_value >= 25:\n",
    "    print(\"Your BMI is in the overweight range. To lower your cost, you should lower your BMI.\")\n",
    "    print(\"Lowering your BMI by {} will put your in the healthy category and lower your insurance.\"\\\n",
    "                     .format(bmi_value - 25))\n",
    "  elif bmi_value >= 18.5:\n",
    "    print(\"Your BMI is in a healthy range.\")\n",
    "  else:\n",
    "    print(\"Your BMI is in the underweight range. Increasing your BMI will not help lower your cost, but it will help improve your health.\")\n",
    "\n",
    "# Function to estimate insurance cost:\n",
    "def estimate_insurance_cost(name, age, sex, bmi, num_of_children, smoker):\n",
    "  estimated_cost = 250*age - 128*sex + 370*bmi + 425*num_of_children + 24000*smoker - 12500\n",
    "  print(name + \"'s Estimated Insurance Cost: \" + str(estimated_cost) + \" dollars.\")\n",
    "  analyze_smoker(smoker)\n",
    "  analyze_bmi(bmi)\n",
    "  return estimated_cost\n",
    " \n",
    "# Estimate Keanu's insurance cost\n",
    "keanu_insurance_cost = estimate_insurance_cost(name = 'Keanu', age = 29, sex = 1,\\\n",
    "                                               bmi = 26.2, num_of_children = 3, smoker = 1)"
   ]
  },
  {
   "cell_type": "markdown",
   "id": "eed16036",
   "metadata": {},
   "source": [
    "Will be using control flow/conditional statements to provide insight about how to lower insurance cost\n",
    "  \n",
    "First up: creating a function that analyzes someone's smoking status to provide insight about how to lower insurance costs."
   ]
  },
  {
   "cell_type": "code",
   "execution_count": 2,
   "id": "6168adb4",
   "metadata": {},
   "outputs": [],
   "source": [
    "#Function created and used above ... tested here after creation\n",
    "\n",
    "# Advice for Keanu - testing\n",
    "#keanu_smokes = 1\n",
    "#analyze_smoker(keanu_smokes)"
   ]
  },
  {
   "cell_type": "markdown",
   "id": "40face93",
   "metadata": {},
   "source": [
    "Next up: creating a function that analyzes someone's BMI and provides insight about insurance cost  \n"
   ]
  },
  {
   "cell_type": "code",
   "execution_count": 3,
   "id": "d259d8f1",
   "metadata": {},
   "outputs": [
    {
     "name": "stdout",
     "output_type": "stream",
     "text": [
      "Your BMI is in the overweight range. To lower your cost, you should lower your BMI.\n",
      "Lowering your BMI by 1.1999999999999993 will put your in the healthy category and lower your insurance.\n"
     ]
    }
   ],
   "source": [
    "#Function created and used above ... tested here after creation\n",
    "\n",
    "# Advice for Keanu - testing\n",
    "keanu_bmi = 26.2\n",
    "analyze_bmi(keanu_bmi)"
   ]
  },
  {
   "cell_type": "code",
   "execution_count": 4,
   "id": "8005ecf5",
   "metadata": {},
   "outputs": [
    {
     "name": "stdout",
     "output_type": "stream",
     "text": [
      "dvnny's Estimated Insurance Cost: 4722 dollars.\n",
      "Smoking is not an issue for you.\n",
      "Your BMI is in the overweight range. To lower your cost, you should lower your BMI.\n",
      "Lowering your BMI by 5 will put your in the healthy category and lower your insurance.\n"
     ]
    }
   ],
   "source": [
    "# Insurance cost for me\n",
    "\n",
    "dvnny_insurance_cost = estimate_insurance_cost(name = \"dvnny\", age = 25, sex = 1,\\\n",
    "                                              bmi = 30, num_of_children = 0, smoker = 0)"
   ]
  }
 ],
 "metadata": {
  "kernelspec": {
   "display_name": "Python 3",
   "language": "python",
   "name": "python3"
  },
  "language_info": {
   "codemirror_mode": {
    "name": "ipython",
    "version": 3
   },
   "file_extension": ".py",
   "mimetype": "text/x-python",
   "name": "python",
   "nbconvert_exporter": "python",
   "pygments_lexer": "ipython3",
   "version": "3.9.5"
  }
 },
 "nbformat": 4,
 "nbformat_minor": 5
}
