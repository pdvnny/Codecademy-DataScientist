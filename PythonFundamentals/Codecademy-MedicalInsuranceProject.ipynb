{
 "cells": [
  {
   "cell_type": "markdown",
   "id": "3d7a9a34",
   "metadata": {},
   "source": [
    "## Copyright 2021 Parker Dunn parker_dunn@outlook.com\n",
    "  \n",
    "#### Alternate: pgdunn@bu.edu & pdunn91@gmail.com   \n",
    "#### August 22, 2021  \n",
    "  \n",
    "__Career Path: Data Scientist__  \n",
    "__Section: Python Fundamentals__   \n",
    "__Topic: Python Syntax__  \n",
    "\n",
    "\n",
    "### Codecademy - Medical Insurance Project"
   ]
  },
  {
   "cell_type": "markdown",
   "id": "cb60c6c7",
   "metadata": {},
   "source": [
    "### Assignment Context\n",
    "\n",
    "This mini-project is meant to be a demonstration of some fundamentals of Python. I am trying to complete the data scientist path on Codecademy and practice Python, so I have gone back to some content that I have learned already.\n",
    "\n",
    "This is the first mini-project that I have previously learned how to do and am now reviewing.\n",
    "\n",
    "### Assignment Description\n",
    "\n",
    "\"Suppose you are a medical professional curious about how certain factors contribute to medical insurance costs. Using a formula that estimates a person's yearly insurance costs, you will investigate how different factors such as age, sex, BMI, etc. affect the prediction.\"  \n",
    "  \n",
    "General Note: The assignment was meant to be basic. Some of the concepts mentioned could be far more elaborate, but this was just an introductory-level lesson."
   ]
  },
  {
   "cell_type": "code",
   "execution_count": 1,
   "id": "a28a638a",
   "metadata": {},
   "outputs": [],
   "source": [
    "# Create calculate_insurance_cost() function below:\n",
    "\n",
    "def calculate_insurance_cost(age, sex, bmi, num_of_children, smoker, name):\n",
    "  estimated_cost = 250*age - 128*sex + 370*bmi +\\\n",
    "                   425*num_of_children + 24000*smoker - 12500\n",
    "  print(\"The estimated insurance cost for {} is {} dollars.\"\\\n",
    "      .format(name, estimated_cost))\n",
    "  return estimated_cost\n",
    "\n",
    "def calculate_insurance_cost_old(age, sex, bmi, num_of_children, smoker):\n",
    "  estimated_cost = 250*age - 128*sex + 370*bmi +\\\n",
    "                   425*num_of_children + 24000*smoker - 12500\n",
    "  print(\"The estimated insurance cost for this person is {} dollars.\"\\\n",
    "      .format(estimated_cost))\n",
    "  return estimated_cost"
   ]
  },
  {
   "cell_type": "code",
   "execution_count": 2,
   "id": "90a7d07a",
   "metadata": {},
   "outputs": [],
   "source": [
    "# Create a set of variables describing a person\n",
    "age = 28\n",
    "sex = 0\n",
    "bmi = 26.2\n",
    "num_of_children = 3\n",
    "smoker = 0"
   ]
  },
  {
   "cell_type": "code",
   "execution_count": 3,
   "id": "7379f22c",
   "metadata": {},
   "outputs": [],
   "source": [
    "# Provided a formula to copy using the variables above\n",
    "\n",
    "insurance_cost = 250 * age - 128 * sex + 370 * bmi\\\n",
    "                            + 425 * num_of_children + 24000 * smoker - 12500"
   ]
  },
  {
   "cell_type": "code",
   "execution_count": 4,
   "id": "04c83287",
   "metadata": {},
   "outputs": [
    {
     "name": "stdout",
     "output_type": "stream",
     "text": [
      "This person's insurance cost is 5469.0 dollars.\n"
     ]
    }
   ],
   "source": [
    "# Displaying the insurance cost in an informative way - REQUEST TO USE string concatentation\n",
    "\n",
    "print(\"This person's insurance cost is \" + str(insurance_cost) + \" dollars.\")"
   ]
  },
  {
   "cell_type": "code",
   "execution_count": 5,
   "id": "140422fc",
   "metadata": {},
   "outputs": [
    {
     "name": "stdout",
     "output_type": "stream",
     "text": [
      "This person's insurance cost is 6469.0 dollars.\n",
      "Age is 32\n"
     ]
    }
   ],
   "source": [
    "# Asked to investigate the effect of age variable on the insurance cost\n",
    "age += 4\n",
    "new_insurance_cost = 250 * age - 128 * sex + 370 * bmi\\\n",
    "                            + 425 * num_of_children + 24000 * smoker - 12500\n",
    "print(\"This person's insurance cost is \" + str(new_insurance_cost) + \" dollars.\")\n",
    "print(\"Age is {}\".format(age))"
   ]
  },
  {
   "cell_type": "code",
   "execution_count": 6,
   "id": "9ac044c8",
   "metadata": {},
   "outputs": [
    {
     "name": "stdout",
     "output_type": "stream",
     "text": [
      "The change in cost of insurance after increasing the age by 4 years is 1000.0 dollars.\n"
     ]
    }
   ],
   "source": [
    "# Looking at how insurance cost changed now\n",
    "\n",
    "change_in_insurance_cost = new_insurance_cost - insurance_cost\n",
    "\n",
    "# Requested to display the content informatively\n",
    "\n",
    "print(\"The change in cost of insurance after increasing the age by 4 years is {} dollars.\"\\\n",
    "              .format(change_in_insurance_cost))"
   ]
  },
  {
   "cell_type": "code",
   "execution_count": 7,
   "id": "cf4ccb39",
   "metadata": {},
   "outputs": [
    {
     "name": "stdout",
     "output_type": "stream",
     "text": [
      "The change in estiamted insurance cost after increasing BMI by 3.1 is 1147.0 dollars.\n"
     ]
    }
   ],
   "source": [
    "# Now asked to investigate how cost is effected by BMI in a basic way\n",
    "\n",
    "age = 28  # reverting this earlier change\n",
    "bmi += 3.1\n",
    "new_insurance_cost = 250 * age - 128 * sex + 370 * bmi\\\n",
    "                            + 425 * num_of_children + 24000 * smoker - 12500\n",
    "change_in_insurance_cost = new_insurance_cost - insurance_cost                           \n",
    "print(\"The change in estiamted insurance cost after increasing BMI by 3.1 is {} dollars.\"\\\n",
    "      .format(change_in_insurance_cost))"
   ]
  },
  {
   "cell_type": "code",
   "execution_count": 8,
   "id": "0447aff1",
   "metadata": {},
   "outputs": [
    {
     "name": "stdout",
     "output_type": "stream",
     "text": [
      "The change in estimated cost for being male instead of female is -128.0 dollars.\n"
     ]
    }
   ],
   "source": [
    "# Now asked to look at the effect of gender (binary for this problem) on insurance cost\n",
    "\n",
    "\n",
    "bmi = 26.2\n",
    "sex = 1\n",
    "new_insurance_cost = 250 * age - 128 * sex + 370 * bmi\\\n",
    "                            + 425 * num_of_children + 24000 * smoker - 12500\n",
    "\n",
    "change_in_insurance_cost = new_insurance_cost - insurance_cost\n",
    "print(\"The change in estimated cost for being male instead of female is {} dollars.\"\\\n",
    "        .format(change_in_insurance_cost))"
   ]
  },
  {
   "cell_type": "markdown",
   "id": "5593baa1",
   "metadata": {},
   "source": [
    "Implying that health insurance is generally $128 cheaper for males compared to females.  \n",
    "  \n",
    "__Other takeaways__:\n",
    "\n",
    "- This formula increases a very large amount based on age alone. Just by aging 10 years (no matter the age), a person's heatlh insurance increases $2500.\n",
    "- the impact of BMI changes is also interesting because it is impractical. It does not properly place emphasis on the healthy BMI range and suggests that the lower the number the healthier someone is"
   ]
  },
  {
   "cell_type": "markdown",
   "id": "1fdfdf65",
   "metadata": {},
   "source": [
    "The lesson recommended repeating the investigatin process for the person's number of children and smoking status, but it is quite easy to see from the formula what the impact of these changes is.  \n",
    "  \n",
    "In fact,  the change in cost for smoking status is quite significant."
   ]
  },
  {
   "cell_type": "markdown",
   "id": "a4043e7d",
   "metadata": {},
   "source": [
    "### Picked up this same project again for lessons later lessons on Python Fundamentals\n",
    "\n",
    "__Career Path: Data Scientist__  \n",
    "__Section: Python Fundamentals__   \n",
    "__Topic: Python Syntax and Variable Types & Python Functions__ "
   ]
  },
  {
   "cell_type": "code",
   "execution_count": 9,
   "id": "896a67b2",
   "metadata": {},
   "outputs": [
    {
     "name": "stdout",
     "output_type": "stream",
     "text": [
      "The estimated insurance cost for this person is 5469.0 dollars.\n",
      "The estimated insurance cost for this person is 28336.0 dollars.\n"
     ]
    }
   ],
   "source": [
    "# Provided information about two individuals Maria and Omar for this part of the project\n",
    "\n",
    "# Initial variables for Maria \n",
    "age = 28\n",
    "sex = 0  \n",
    "bmi = 26.2\n",
    "num_of_children = 3\n",
    "smoker = 0  \n",
    "\n",
    "# Estimate Maria's insurance cost\n",
    "# insurance_cost = 250*age - 128*sex + 370*bmi + 425*num_of_children + 24000*smoker - 12500\n",
    "\n",
    "# Switching to function\n",
    "maria_insurance_cost = calculate_insurance_cost_old(age, sex, bmi, num_of_children, smoker)\n",
    "\n",
    "# Don't need this with new function\n",
    "# print(\"The estimated insurance cost for Maria is \" + str(insurance_cost) + \" dollars.\")\n",
    "\n",
    "# Initial variables for Omar\n",
    "age = 35\n",
    "sex = 1 \n",
    "bmi = 22.2\n",
    "num_of_children = 0\n",
    "smoker = 1  \n",
    "\n",
    "# Estimate Omar's insurance cost\n",
    "\n",
    "# Switching to function\n",
    "# insurance_cost = 250*age - 128*sex + 370*bmi + 425*num_of_children + 24000*smoker - 1250\n",
    "# print(\"The estimated insurance cost for Omar is \" + str(insurance_cost) + \" dollars.\")\n",
    "\n",
    "omar_insurance_cost = calculate_insurance_cost_old(age, sex, bmi, num_of_children, smoker)\n",
    "\n",
    "# Testing the newly created function - THIS WORKED AS EXPECTED\n",
    "# cost = calculate_insurance_cost()\n",
    "# print(\"Returned by function \" + str(cost))"
   ]
  },
  {
   "cell_type": "code",
   "execution_count": 10,
   "id": "64ecd124",
   "metadata": {},
   "outputs": [
    {
     "name": "stdout",
     "output_type": "stream",
     "text": [
      "The estimated insurance cost for Maria is 5469.0 dollars.\n",
      "The estimated insurance cost for Omar is 28336.0 dollars.\n",
      "The estimated insurance cost for Parker is 4722 dollars.\n"
     ]
    }
   ],
   "source": [
    "# The condsolidated version of the script above ... since we don't need all the commented sections or\n",
    "# the initial variables\n",
    "\n",
    "# Estimate Maria's insurance cost\n",
    "maria_insurance_cost = calculate_insurance_cost(28, 0, 26.2, 3, 0, name = \"Maria\")\n",
    "\n",
    "# Estimate Omar's insurance cost\n",
    "omar_insurance_cost = calculate_insurance_cost(35, 1, 22.2, 0, 1, name = \"Omar\")\n",
    "\n",
    "my_insurance_cost = calculate_insurance_cost(25, 1, 30, 0, 0, \"Parker\")"
   ]
  },
  {
   "cell_type": "code",
   "execution_count": null,
   "id": "69f2a99f",
   "metadata": {},
   "outputs": [],
   "source": []
  }
 ],
 "metadata": {
  "kernelspec": {
   "display_name": "Python 3",
   "language": "python",
   "name": "python3"
  },
  "language_info": {
   "codemirror_mode": {
    "name": "ipython",
    "version": 3
   },
   "file_extension": ".py",
   "mimetype": "text/x-python",
   "name": "python",
   "nbconvert_exporter": "python",
   "pygments_lexer": "ipython3",
   "version": "3.9.5"
  }
 },
 "nbformat": 4,
 "nbformat_minor": 5
}
