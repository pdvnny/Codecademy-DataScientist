{
 "cells": [
  {
   "cell_type": "markdown",
   "id": "230583b7",
   "metadata": {},
   "source": [
    "## Copyright 2021 Parker Dunn parker_dunn@outlook.com\n",
    "  \n",
    "#### Alternate: pgdunn@bu.edu & pdunn91@gmail.com   \n",
    "#### November 13th, 2021  \n",
    "  \n",
    "__Career Path: Data Scientist__  \n",
    "__Section: Python Fundamentals__   \n",
    "__Topic: Python Dictionaries__  \n",
    "\n",
    "\n",
    "### Codecademy - Dictionaries Challenge Project - Hurricane Analysis"
   ]
  },
  {
   "cell_type": "markdown",
   "id": "d5713af1",
   "metadata": {},
   "source": [
    "### Overview\n",
    "\n",
    "\"This project is slightly different than others you have encountered thus far on Codecademy. Instead of a step-by-step tutorial, this project contains a series of open-ended requirements which describe the project you'll be building. There are many possible ways to correctly fulfill all of these requirements, and you should expect to use the internet, Codecademy, and other resources when you encounter a problem that you cannot easily solve.\"\n",
    "\n",
    "### Project Goals\n",
    "\n",
    "\"You will work to write several functions that organize and manipulate data about Category 5 Hurricanes, the strongest hurricanes as rated by their wind speed. Each one of these functions will use a number of parameters, conditionals, lists, dictionaries, string manipulation, and return statements.\""
   ]
  },
  {
   "cell_type": "code",
   "execution_count": 1,
   "id": "3fbaed94",
   "metadata": {},
   "outputs": [],
   "source": [
    "# DATA PROVIDED FOR THE PROJECT\n",
    "\n",
    "# names of hurricanes\n",
    "names = ['Cuba I', 'San Felipe II Okeechobee', 'Bahamas', 'Cuba II', 'CubaBrownsville', 'Tampico', 'Labor Day', 'New England', 'Carol', 'Janet', 'Carla', 'Hattie', 'Beulah', 'Camille', 'Edith', 'Anita', 'David', 'Allen', 'Gilbert', 'Hugo', 'Andrew', 'Mitch', 'Isabel', 'Ivan', 'Emily', 'Katrina', 'Rita', 'Wilma', 'Dean', 'Felix', 'Matthew', 'Irma', 'Maria', 'Michael']\n",
    "\n",
    "# months of hurricanes\n",
    "months = ['October', 'September', 'September', 'November', 'August', 'September', 'September', 'September', 'September', 'September', 'September', 'October', 'September', 'August', 'September', 'September', 'August', 'August', 'September', 'September', 'August', 'October', 'September', 'September', 'July', 'August', 'September', 'October', 'August', 'September', 'October', 'September', 'September', 'October']\n",
    "\n",
    "# years of hurricanes\n",
    "years = [1924, 1928, 1932, 1932, 1933, 1933, 1935, 1938, 1953, 1955, 1961, 1961, 1967, 1969, 1971, 1977, 1979, 1980, 1988, 1989, 1992, 1998, 2003, 2004, 2005, 2005, 2005, 2005, 2007, 2007, 2016, 2017, 2017, 2018]\n",
    "\n",
    "# maximum sustained winds (mph) of hurricanes\n",
    "max_sustained_winds = [165, 160, 160, 175, 160, 160, 185, 160, 160, 175, 175, 160, 160, 175, 160, 175, 175, 190, 185, 160, 175, 180, 165, 165, 160, 175, 180, 185, 175, 175, 165, 180, 175, 160]\n",
    "\n",
    "# areas affected by each hurricane\n",
    "areas_affected = [['Central America', 'Mexico', 'Cuba', 'Florida', 'The Bahamas'], ['Lesser Antilles', 'The Bahamas', 'United States East Coast', 'Atlantic Canada'], ['The Bahamas', 'Northeastern United States'], ['Lesser Antilles', 'Jamaica', 'Cayman Islands', 'Cuba', 'The Bahamas', 'Bermuda'], ['The Bahamas', 'Cuba', 'Florida', 'Texas', 'Tamaulipas'], ['Jamaica', 'Yucatn Peninsula'], ['The Bahamas', 'Florida', 'Georgia', 'The Carolinas', 'Virginia'], ['Southeastern United States', 'Northeastern United States', 'Southwestern Quebec'], ['Bermuda', 'New England', 'Atlantic Canada'], ['Lesser Antilles', 'Central America'], ['Texas', 'Louisiana', 'Midwestern United States'], ['Central America'], ['The Caribbean', 'Mexico', 'Texas'], ['Cuba', 'United States Gulf Coast'], ['The Caribbean', 'Central America', 'Mexico', 'United States Gulf Coast'], ['Mexico'], ['The Caribbean', 'United States East coast'], ['The Caribbean', 'Yucatn Peninsula', 'Mexico', 'South Texas'], ['Jamaica', 'Venezuela', 'Central America', 'Hispaniola', 'Mexico'], ['The Caribbean', 'United States East Coast'], ['The Bahamas', 'Florida', 'United States Gulf Coast'], ['Central America', 'Yucatn Peninsula', 'South Florida'], ['Greater Antilles', 'Bahamas', 'Eastern United States', 'Ontario'], ['The Caribbean', 'Venezuela', 'United States Gulf Coast'], ['Windward Islands', 'Jamaica', 'Mexico', 'Texas'], ['Bahamas', 'United States Gulf Coast'], ['Cuba', 'United States Gulf Coast'], ['Greater Antilles', 'Central America', 'Florida'], ['The Caribbean', 'Central America'], ['Nicaragua', 'Honduras'], ['Antilles', 'Venezuela', 'Colombia', 'United States East Coast', 'Atlantic Canada'], ['Cape Verde', 'The Caribbean', 'British Virgin Islands', 'U.S. Virgin Islands', 'Cuba', 'Florida'], ['Lesser Antilles', 'Virgin Islands', 'Puerto Rico', 'Dominican Republic', 'Turks and Caicos Islands'], ['Central America', 'United States Gulf Coast (especially Florida Panhandle)']]\n",
    "\n",
    "# damages (USD($)) of hurricanes\n",
    "damages = ['Damages not recorded', '100M', 'Damages not recorded', '40M', '27.9M', '5M', 'Damages not recorded', '306M', '2M', '65.8M', '326M', '60.3M', '208M', '1.42B', '25.4M', 'Damages not recorded', '1.54B', '1.24B', '7.1B', '10B', '26.5B', '6.2B', '5.37B', '23.3B', '1.01B', '125B', '12B', '29.4B', '1.76B', '720M', '15.1B', '64.8B', '91.6B', '25.1B']\n",
    "\n",
    "# deaths for each hurricane\n",
    "deaths = [90,4000,16,3103,179,184,408,682,5,1023,43,319,688,259,37,11,2068,269,318,107,65,19325,51,124,17,1836,125,87,45,133,603,138,3057,74]"
   ]
  },
  {
   "cell_type": "code",
   "execution_count": 2,
   "id": "7dcf292f",
   "metadata": {},
   "outputs": [],
   "source": [
    "# SOMETHING ELSE PROVIDED\n",
    "# 1\n",
    "# Update Recorded Damages\n",
    "conversion = {\"M\": 1000000,\n",
    "              \"B\": 1000000000}"
   ]
  },
  {
   "cell_type": "code",
   "execution_count": 3,
   "id": "7133acb8",
   "metadata": {},
   "outputs": [],
   "source": [
    "# Create a function to update the damages data; convert strings of damage numbers to numbers\n",
    "\n",
    "def damages_conversion(data, conv):\n",
    "    new_data = []\n",
    "    for damage in data:\n",
    "        try:\n",
    "            new_data.append(float(damage[:-1]) * conv[damage[-1]])\n",
    "        except:\n",
    "            new_data.append(damage)\n",
    "    return new_data"
   ]
  },
  {
   "cell_type": "code",
   "execution_count": 4,
   "id": "ff4f9981",
   "metadata": {},
   "outputs": [
    {
     "name": "stdout",
     "output_type": "stream",
     "text": [
      "Damages not recorded\n",
      "100000000.0\n",
      "Damages not recorded\n",
      "40000000.0\n",
      "27900000.0\n",
      "5000000.0\n",
      "Damages not recorded\n",
      "306000000.0\n",
      "2000000.0\n",
      "65800000.0\n",
      "326000000.0\n",
      "60300000.0\n",
      "208000000.0\n",
      "1420000000.0\n",
      "25400000.0\n",
      "Damages not recorded\n",
      "1540000000.0\n",
      "1240000000.0\n",
      "7100000000.0\n",
      "10000000000.0\n",
      "26500000000.0\n",
      "6200000000.0\n",
      "5370000000.0\n",
      "23300000000.0\n",
      "1010000000.0\n",
      "125000000000.0\n",
      "12000000000.0\n",
      "29400000000.0\n",
      "1760000000.0\n",
      "720000000.0\n",
      "15100000000.0\n",
      "64800000000.0\n",
      "91600000000.0\n",
      "25100000000.0\n"
     ]
    }
   ],
   "source": [
    "# updating and printing the new damages information\n",
    "\n",
    "update_damages = damages_conversion(damages, conversion)\n",
    "for damage in update_damages:\n",
    "    print(damage)"
   ]
  },
  {
   "cell_type": "code",
   "execution_count": 5,
   "id": "376fbbaf",
   "metadata": {},
   "outputs": [],
   "source": [
    "# Create a function to create dictionaries out of the lists of data\n",
    "\n",
    "def hurricane_dictionary(names, month, year, max_wind, areas_affected, damage, death):\n",
    "    hurricane_dict = {}\n",
    "    for i in range(len(names)):\n",
    "        hurricane_dict[names[i]] = {\"Name\": names[i],\n",
    "                                    \"Month\": month[i],\n",
    "                                    \"Year\": year[i],\n",
    "                                    \"Max_Sustained_Wind\": max_wind[i],\n",
    "                                    \"Areas_Affected\": areas_affected[i],\n",
    "                                    \"Damage\": damage[i],\n",
    "                                    \"Deaths\": death[i]}\n",
    "    return hurricane_dict"
   ]
  },
  {
   "cell_type": "code",
   "execution_count": 6,
   "id": "23c07019",
   "metadata": {},
   "outputs": [
    {
     "name": "stdout",
     "output_type": "stream",
     "text": [
      "Cuba I {'Name': 'Cuba I', 'Month': 'October', 'Year': 1924, 'Max_Sustained_Wind': 165, 'Areas_Affected': ['Central America', 'Mexico', 'Cuba', 'Florida', 'The Bahamas'], 'Damage': 'Damages not recorded', 'Deaths': 90} \n",
      "\n",
      "San Felipe II Okeechobee {'Name': 'San Felipe II Okeechobee', 'Month': 'September', 'Year': 1928, 'Max_Sustained_Wind': 160, 'Areas_Affected': ['Lesser Antilles', 'The Bahamas', 'United States East Coast', 'Atlantic Canada'], 'Damage': 100000000.0, 'Deaths': 4000} \n",
      "\n",
      "Bahamas {'Name': 'Bahamas', 'Month': 'September', 'Year': 1932, 'Max_Sustained_Wind': 160, 'Areas_Affected': ['The Bahamas', 'Northeastern United States'], 'Damage': 'Damages not recorded', 'Deaths': 16} \n",
      "\n",
      "Cuba II {'Name': 'Cuba II', 'Month': 'November', 'Year': 1932, 'Max_Sustained_Wind': 175, 'Areas_Affected': ['Lesser Antilles', 'Jamaica', 'Cayman Islands', 'Cuba', 'The Bahamas', 'Bermuda'], 'Damage': 40000000.0, 'Deaths': 3103} \n",
      "\n",
      "CubaBrownsville {'Name': 'CubaBrownsville', 'Month': 'August', 'Year': 1933, 'Max_Sustained_Wind': 160, 'Areas_Affected': ['The Bahamas', 'Cuba', 'Florida', 'Texas', 'Tamaulipas'], 'Damage': 27900000.0, 'Deaths': 179} \n",
      "\n",
      "Tampico {'Name': 'Tampico', 'Month': 'September', 'Year': 1933, 'Max_Sustained_Wind': 160, 'Areas_Affected': ['Jamaica', 'Yucatn Peninsula'], 'Damage': 5000000.0, 'Deaths': 184} \n",
      "\n",
      "Labor Day {'Name': 'Labor Day', 'Month': 'September', 'Year': 1935, 'Max_Sustained_Wind': 185, 'Areas_Affected': ['The Bahamas', 'Florida', 'Georgia', 'The Carolinas', 'Virginia'], 'Damage': 'Damages not recorded', 'Deaths': 408} \n",
      "\n",
      "New England {'Name': 'New England', 'Month': 'September', 'Year': 1938, 'Max_Sustained_Wind': 160, 'Areas_Affected': ['Southeastern United States', 'Northeastern United States', 'Southwestern Quebec'], 'Damage': 306000000.0, 'Deaths': 682} \n",
      "\n",
      "Carol {'Name': 'Carol', 'Month': 'September', 'Year': 1953, 'Max_Sustained_Wind': 160, 'Areas_Affected': ['Bermuda', 'New England', 'Atlantic Canada'], 'Damage': 2000000.0, 'Deaths': 5} \n",
      "\n",
      "Janet {'Name': 'Janet', 'Month': 'September', 'Year': 1955, 'Max_Sustained_Wind': 175, 'Areas_Affected': ['Lesser Antilles', 'Central America'], 'Damage': 65800000.0, 'Deaths': 1023} \n",
      "\n",
      "Carla {'Name': 'Carla', 'Month': 'September', 'Year': 1961, 'Max_Sustained_Wind': 175, 'Areas_Affected': ['Texas', 'Louisiana', 'Midwestern United States'], 'Damage': 326000000.0, 'Deaths': 43} \n",
      "\n",
      "Hattie {'Name': 'Hattie', 'Month': 'October', 'Year': 1961, 'Max_Sustained_Wind': 160, 'Areas_Affected': ['Central America'], 'Damage': 60300000.0, 'Deaths': 319} \n",
      "\n",
      "Beulah {'Name': 'Beulah', 'Month': 'September', 'Year': 1967, 'Max_Sustained_Wind': 160, 'Areas_Affected': ['The Caribbean', 'Mexico', 'Texas'], 'Damage': 208000000.0, 'Deaths': 688} \n",
      "\n",
      "Camille {'Name': 'Camille', 'Month': 'August', 'Year': 1969, 'Max_Sustained_Wind': 175, 'Areas_Affected': ['Cuba', 'United States Gulf Coast'], 'Damage': 1420000000.0, 'Deaths': 259} \n",
      "\n",
      "Edith {'Name': 'Edith', 'Month': 'September', 'Year': 1971, 'Max_Sustained_Wind': 160, 'Areas_Affected': ['The Caribbean', 'Central America', 'Mexico', 'United States Gulf Coast'], 'Damage': 25400000.0, 'Deaths': 37} \n",
      "\n",
      "Anita {'Name': 'Anita', 'Month': 'September', 'Year': 1977, 'Max_Sustained_Wind': 175, 'Areas_Affected': ['Mexico'], 'Damage': 'Damages not recorded', 'Deaths': 11} \n",
      "\n",
      "David {'Name': 'David', 'Month': 'August', 'Year': 1979, 'Max_Sustained_Wind': 175, 'Areas_Affected': ['The Caribbean', 'United States East coast'], 'Damage': 1540000000.0, 'Deaths': 2068} \n",
      "\n",
      "Allen {'Name': 'Allen', 'Month': 'August', 'Year': 1980, 'Max_Sustained_Wind': 190, 'Areas_Affected': ['The Caribbean', 'Yucatn Peninsula', 'Mexico', 'South Texas'], 'Damage': 1240000000.0, 'Deaths': 269} \n",
      "\n",
      "Gilbert {'Name': 'Gilbert', 'Month': 'September', 'Year': 1988, 'Max_Sustained_Wind': 185, 'Areas_Affected': ['Jamaica', 'Venezuela', 'Central America', 'Hispaniola', 'Mexico'], 'Damage': 7100000000.0, 'Deaths': 318} \n",
      "\n",
      "Hugo {'Name': 'Hugo', 'Month': 'September', 'Year': 1989, 'Max_Sustained_Wind': 160, 'Areas_Affected': ['The Caribbean', 'United States East Coast'], 'Damage': 10000000000.0, 'Deaths': 107} \n",
      "\n",
      "Andrew {'Name': 'Andrew', 'Month': 'August', 'Year': 1992, 'Max_Sustained_Wind': 175, 'Areas_Affected': ['The Bahamas', 'Florida', 'United States Gulf Coast'], 'Damage': 26500000000.0, 'Deaths': 65} \n",
      "\n",
      "Mitch {'Name': 'Mitch', 'Month': 'October', 'Year': 1998, 'Max_Sustained_Wind': 180, 'Areas_Affected': ['Central America', 'Yucatn Peninsula', 'South Florida'], 'Damage': 6200000000.0, 'Deaths': 19325} \n",
      "\n",
      "Isabel {'Name': 'Isabel', 'Month': 'September', 'Year': 2003, 'Max_Sustained_Wind': 165, 'Areas_Affected': ['Greater Antilles', 'Bahamas', 'Eastern United States', 'Ontario'], 'Damage': 5370000000.0, 'Deaths': 51} \n",
      "\n",
      "Ivan {'Name': 'Ivan', 'Month': 'September', 'Year': 2004, 'Max_Sustained_Wind': 165, 'Areas_Affected': ['The Caribbean', 'Venezuela', 'United States Gulf Coast'], 'Damage': 23300000000.0, 'Deaths': 124} \n",
      "\n",
      "Emily {'Name': 'Emily', 'Month': 'July', 'Year': 2005, 'Max_Sustained_Wind': 160, 'Areas_Affected': ['Windward Islands', 'Jamaica', 'Mexico', 'Texas'], 'Damage': 1010000000.0, 'Deaths': 17} \n",
      "\n",
      "Katrina {'Name': 'Katrina', 'Month': 'August', 'Year': 2005, 'Max_Sustained_Wind': 175, 'Areas_Affected': ['Bahamas', 'United States Gulf Coast'], 'Damage': 125000000000.0, 'Deaths': 1836} \n",
      "\n",
      "Rita {'Name': 'Rita', 'Month': 'September', 'Year': 2005, 'Max_Sustained_Wind': 180, 'Areas_Affected': ['Cuba', 'United States Gulf Coast'], 'Damage': 12000000000.0, 'Deaths': 125} \n",
      "\n",
      "Wilma {'Name': 'Wilma', 'Month': 'October', 'Year': 2005, 'Max_Sustained_Wind': 185, 'Areas_Affected': ['Greater Antilles', 'Central America', 'Florida'], 'Damage': 29400000000.0, 'Deaths': 87} \n",
      "\n",
      "Dean {'Name': 'Dean', 'Month': 'August', 'Year': 2007, 'Max_Sustained_Wind': 175, 'Areas_Affected': ['The Caribbean', 'Central America'], 'Damage': 1760000000.0, 'Deaths': 45} \n",
      "\n",
      "Felix {'Name': 'Felix', 'Month': 'September', 'Year': 2007, 'Max_Sustained_Wind': 175, 'Areas_Affected': ['Nicaragua', 'Honduras'], 'Damage': 720000000.0, 'Deaths': 133} \n",
      "\n",
      "Matthew {'Name': 'Matthew', 'Month': 'October', 'Year': 2016, 'Max_Sustained_Wind': 165, 'Areas_Affected': ['Antilles', 'Venezuela', 'Colombia', 'United States East Coast', 'Atlantic Canada'], 'Damage': 15100000000.0, 'Deaths': 603} \n",
      "\n",
      "Irma {'Name': 'Irma', 'Month': 'September', 'Year': 2017, 'Max_Sustained_Wind': 180, 'Areas_Affected': ['Cape Verde', 'The Caribbean', 'British Virgin Islands', 'U.S. Virgin Islands', 'Cuba', 'Florida'], 'Damage': 64800000000.0, 'Deaths': 138} \n",
      "\n",
      "Maria {'Name': 'Maria', 'Month': 'September', 'Year': 2017, 'Max_Sustained_Wind': 175, 'Areas_Affected': ['Lesser Antilles', 'Virgin Islands', 'Puerto Rico', 'Dominican Republic', 'Turks and Caicos Islands'], 'Damage': 91600000000.0, 'Deaths': 3057} \n",
      "\n",
      "Michael {'Name': 'Michael', 'Month': 'October', 'Year': 2018, 'Max_Sustained_Wind': 160, 'Areas_Affected': ['Central America', 'United States Gulf Coast (especially Florida Panhandle)'], 'Damage': 25100000000.0, 'Deaths': 74} \n",
      "\n"
     ]
    }
   ],
   "source": [
    "hurricanes_dictionary = hurricane_dictionary(names, months, years, max_sustained_winds,\\\n",
    "                                            areas_affected, update_damages, deaths)\n",
    "for (key,value) in hurricanes_dictionary.items():\n",
    "    print(key, value,\"\\n\")"
   ]
  },
  {
   "cell_type": "code",
   "execution_count": 7,
   "id": "23440f85",
   "metadata": {},
   "outputs": [],
   "source": [
    "# Create a function to design a new dictionary\n",
    "# New dictionary should have a list of hurricanes for each each year --> year : list_of_hurricanes\n",
    "\n",
    "def hurricanes_by_year(hurricanes_dictionary, years):\n",
    "    yrs = set(years)\n",
    "    hurricane_year_dict = {}\n",
    "#     print(yrs)\n",
    "    for yr in yrs:\n",
    "        hurricane_year_dict[yr] = []\n",
    "        \n",
    "    for hurricane in hurricanes_dictionary.keys():\n",
    "        year = hurricanes_dictionary[hurricane]['Year']\n",
    "        hurricane_year_dict[year].append(hurricanes_dictionary[hurricane])\n",
    "    \n",
    "    return hurricane_year_dict"
   ]
  },
  {
   "cell_type": "code",
   "execution_count": 8,
   "id": "08d17d2b",
   "metadata": {
    "scrolled": false
   },
   "outputs": [
    {
     "name": "stdout",
     "output_type": "stream",
     "text": [
      "\n",
      " [{'Name': 'Cuba I', 'Month': 'October', 'Year': 1924, 'Max_Sustained_Wind': 165, 'Areas_Affected': ['Central America', 'Mexico', 'Cuba', 'Florida', 'The Bahamas'], 'Damage': 'Damages not recorded', 'Deaths': 90}] \n",
      "\n",
      "\n",
      " [{'Name': 'San Felipe II Okeechobee', 'Month': 'September', 'Year': 1928, 'Max_Sustained_Wind': 160, 'Areas_Affected': ['Lesser Antilles', 'The Bahamas', 'United States East Coast', 'Atlantic Canada'], 'Damage': 100000000.0, 'Deaths': 4000}] \n",
      "\n",
      "\n",
      " [{'Name': 'Bahamas', 'Month': 'September', 'Year': 1932, 'Max_Sustained_Wind': 160, 'Areas_Affected': ['The Bahamas', 'Northeastern United States'], 'Damage': 'Damages not recorded', 'Deaths': 16}, {'Name': 'Cuba II', 'Month': 'November', 'Year': 1932, 'Max_Sustained_Wind': 175, 'Areas_Affected': ['Lesser Antilles', 'Jamaica', 'Cayman Islands', 'Cuba', 'The Bahamas', 'Bermuda'], 'Damage': 40000000.0, 'Deaths': 3103}] \n",
      "\n",
      "\n",
      " [{'Name': 'CubaBrownsville', 'Month': 'August', 'Year': 1933, 'Max_Sustained_Wind': 160, 'Areas_Affected': ['The Bahamas', 'Cuba', 'Florida', 'Texas', 'Tamaulipas'], 'Damage': 27900000.0, 'Deaths': 179}, {'Name': 'Tampico', 'Month': 'September', 'Year': 1933, 'Max_Sustained_Wind': 160, 'Areas_Affected': ['Jamaica', 'Yucatn Peninsula'], 'Damage': 5000000.0, 'Deaths': 184}] \n",
      "\n",
      "\n",
      " [{'Name': 'Labor Day', 'Month': 'September', 'Year': 1935, 'Max_Sustained_Wind': 185, 'Areas_Affected': ['The Bahamas', 'Florida', 'Georgia', 'The Carolinas', 'Virginia'], 'Damage': 'Damages not recorded', 'Deaths': 408}] \n",
      "\n",
      "\n",
      " [{'Name': 'New England', 'Month': 'September', 'Year': 1938, 'Max_Sustained_Wind': 160, 'Areas_Affected': ['Southeastern United States', 'Northeastern United States', 'Southwestern Quebec'], 'Damage': 306000000.0, 'Deaths': 682}] \n",
      "\n",
      "\n",
      " [{'Name': 'Carol', 'Month': 'September', 'Year': 1953, 'Max_Sustained_Wind': 160, 'Areas_Affected': ['Bermuda', 'New England', 'Atlantic Canada'], 'Damage': 2000000.0, 'Deaths': 5}] \n",
      "\n",
      "\n",
      " [{'Name': 'Janet', 'Month': 'September', 'Year': 1955, 'Max_Sustained_Wind': 175, 'Areas_Affected': ['Lesser Antilles', 'Central America'], 'Damage': 65800000.0, 'Deaths': 1023}] \n",
      "\n",
      "\n",
      " [{'Name': 'Carla', 'Month': 'September', 'Year': 1961, 'Max_Sustained_Wind': 175, 'Areas_Affected': ['Texas', 'Louisiana', 'Midwestern United States'], 'Damage': 326000000.0, 'Deaths': 43}, {'Name': 'Hattie', 'Month': 'October', 'Year': 1961, 'Max_Sustained_Wind': 160, 'Areas_Affected': ['Central America'], 'Damage': 60300000.0, 'Deaths': 319}] \n",
      "\n",
      "\n",
      " [{'Name': 'Beulah', 'Month': 'September', 'Year': 1967, 'Max_Sustained_Wind': 160, 'Areas_Affected': ['The Caribbean', 'Mexico', 'Texas'], 'Damage': 208000000.0, 'Deaths': 688}] \n",
      "\n",
      "\n",
      " [{'Name': 'Camille', 'Month': 'August', 'Year': 1969, 'Max_Sustained_Wind': 175, 'Areas_Affected': ['Cuba', 'United States Gulf Coast'], 'Damage': 1420000000.0, 'Deaths': 259}] \n",
      "\n",
      "\n",
      " [{'Name': 'Edith', 'Month': 'September', 'Year': 1971, 'Max_Sustained_Wind': 160, 'Areas_Affected': ['The Caribbean', 'Central America', 'Mexico', 'United States Gulf Coast'], 'Damage': 25400000.0, 'Deaths': 37}] \n",
      "\n",
      "\n",
      " [{'Name': 'Anita', 'Month': 'September', 'Year': 1977, 'Max_Sustained_Wind': 175, 'Areas_Affected': ['Mexico'], 'Damage': 'Damages not recorded', 'Deaths': 11}] \n",
      "\n",
      "\n",
      " [{'Name': 'David', 'Month': 'August', 'Year': 1979, 'Max_Sustained_Wind': 175, 'Areas_Affected': ['The Caribbean', 'United States East coast'], 'Damage': 1540000000.0, 'Deaths': 2068}] \n",
      "\n",
      "\n",
      " [{'Name': 'Allen', 'Month': 'August', 'Year': 1980, 'Max_Sustained_Wind': 190, 'Areas_Affected': ['The Caribbean', 'Yucatn Peninsula', 'Mexico', 'South Texas'], 'Damage': 1240000000.0, 'Deaths': 269}] \n",
      "\n",
      "\n",
      " [{'Name': 'Gilbert', 'Month': 'September', 'Year': 1988, 'Max_Sustained_Wind': 185, 'Areas_Affected': ['Jamaica', 'Venezuela', 'Central America', 'Hispaniola', 'Mexico'], 'Damage': 7100000000.0, 'Deaths': 318}] \n",
      "\n",
      "\n",
      " [{'Name': 'Hugo', 'Month': 'September', 'Year': 1989, 'Max_Sustained_Wind': 160, 'Areas_Affected': ['The Caribbean', 'United States East Coast'], 'Damage': 10000000000.0, 'Deaths': 107}] \n",
      "\n",
      "\n",
      " [{'Name': 'Andrew', 'Month': 'August', 'Year': 1992, 'Max_Sustained_Wind': 175, 'Areas_Affected': ['The Bahamas', 'Florida', 'United States Gulf Coast'], 'Damage': 26500000000.0, 'Deaths': 65}] \n",
      "\n",
      "\n",
      " [{'Name': 'Mitch', 'Month': 'October', 'Year': 1998, 'Max_Sustained_Wind': 180, 'Areas_Affected': ['Central America', 'Yucatn Peninsula', 'South Florida'], 'Damage': 6200000000.0, 'Deaths': 19325}] \n",
      "\n",
      "\n",
      " [{'Name': 'Isabel', 'Month': 'September', 'Year': 2003, 'Max_Sustained_Wind': 165, 'Areas_Affected': ['Greater Antilles', 'Bahamas', 'Eastern United States', 'Ontario'], 'Damage': 5370000000.0, 'Deaths': 51}] \n",
      "\n",
      "\n",
      " [{'Name': 'Ivan', 'Month': 'September', 'Year': 2004, 'Max_Sustained_Wind': 165, 'Areas_Affected': ['The Caribbean', 'Venezuela', 'United States Gulf Coast'], 'Damage': 23300000000.0, 'Deaths': 124}] \n",
      "\n",
      "\n",
      " [{'Name': 'Emily', 'Month': 'July', 'Year': 2005, 'Max_Sustained_Wind': 160, 'Areas_Affected': ['Windward Islands', 'Jamaica', 'Mexico', 'Texas'], 'Damage': 1010000000.0, 'Deaths': 17}, {'Name': 'Katrina', 'Month': 'August', 'Year': 2005, 'Max_Sustained_Wind': 175, 'Areas_Affected': ['Bahamas', 'United States Gulf Coast'], 'Damage': 125000000000.0, 'Deaths': 1836}, {'Name': 'Rita', 'Month': 'September', 'Year': 2005, 'Max_Sustained_Wind': 180, 'Areas_Affected': ['Cuba', 'United States Gulf Coast'], 'Damage': 12000000000.0, 'Deaths': 125}, {'Name': 'Wilma', 'Month': 'October', 'Year': 2005, 'Max_Sustained_Wind': 185, 'Areas_Affected': ['Greater Antilles', 'Central America', 'Florida'], 'Damage': 29400000000.0, 'Deaths': 87}] \n",
      "\n",
      "\n",
      " [{'Name': 'Dean', 'Month': 'August', 'Year': 2007, 'Max_Sustained_Wind': 175, 'Areas_Affected': ['The Caribbean', 'Central America'], 'Damage': 1760000000.0, 'Deaths': 45}, {'Name': 'Felix', 'Month': 'September', 'Year': 2007, 'Max_Sustained_Wind': 175, 'Areas_Affected': ['Nicaragua', 'Honduras'], 'Damage': 720000000.0, 'Deaths': 133}] \n",
      "\n",
      "\n",
      " [{'Name': 'Matthew', 'Month': 'October', 'Year': 2016, 'Max_Sustained_Wind': 165, 'Areas_Affected': ['Antilles', 'Venezuela', 'Colombia', 'United States East Coast', 'Atlantic Canada'], 'Damage': 15100000000.0, 'Deaths': 603}] \n",
      "\n",
      "\n",
      " [{'Name': 'Irma', 'Month': 'September', 'Year': 2017, 'Max_Sustained_Wind': 180, 'Areas_Affected': ['Cape Verde', 'The Caribbean', 'British Virgin Islands', 'U.S. Virgin Islands', 'Cuba', 'Florida'], 'Damage': 64800000000.0, 'Deaths': 138}, {'Name': 'Maria', 'Month': 'September', 'Year': 2017, 'Max_Sustained_Wind': 175, 'Areas_Affected': ['Lesser Antilles', 'Virgin Islands', 'Puerto Rico', 'Dominican Republic', 'Turks and Caicos Islands'], 'Damage': 91600000000.0, 'Deaths': 3057}] \n",
      "\n",
      "\n",
      " [{'Name': 'Michael', 'Month': 'October', 'Year': 2018, 'Max_Sustained_Wind': 160, 'Areas_Affected': ['Central America', 'United States Gulf Coast (especially Florida Panhandle)'], 'Damage': 25100000000.0, 'Deaths': 74}] \n",
      "\n"
     ]
    }
   ],
   "source": [
    "hurricane_dict_years = hurricanes_by_year(hurricanes_dictionary, years)\n",
    "\n",
    "for year in hurricane_dict_years.keys():\n",
    "    print(\"\\n\",hurricane_dict_years[year],\"\\n\")"
   ]
  },
  {
   "cell_type": "markdown",
   "id": "02e968a9",
   "metadata": {},
   "source": [
    "Write a function that counts how often each area is listed as an affected area of a hurricane. Store and return the results in a dictionary where the keys are the affected areas and the values are counts of how many times the areas were affected."
   ]
  },
  {
   "cell_type": "code",
   "execution_count": 9,
   "id": "41c7bb7d",
   "metadata": {},
   "outputs": [],
   "source": [
    "def gen_areas_count(areas_affected):\n",
    "    # Need a set of hurricanes\n",
    "    areas_lst = []\n",
    "    for areas in areas_affected:\n",
    "        for area in areas:\n",
    "            areas_lst.append(area)\n",
    "    # Got the list; now for the set\n",
    "#     areas_lst.sort()\n",
    "    areas_set = set(areas_lst)\n",
    "    \n",
    "    # Get the dictionary created\n",
    "    areas_count = {}\n",
    "    for area in areas_set:\n",
    "        areas_count[area] = 0\n",
    "    \n",
    "    # Updated dictionary with counts\n",
    "    for hurricane_areas in areas_affected:\n",
    "        for area in hurricane_areas:\n",
    "            areas_count[area] += 1\n",
    "\n",
    "    return areas_count\n",
    "\n",
    "# for area in gen_areas_count(hurricanes_dictionary, areas_affected):\n",
    "#     print(area)"
   ]
  },
  {
   "cell_type": "code",
   "execution_count": 10,
   "id": "3c6d7056",
   "metadata": {},
   "outputs": [
    {
     "name": "stdout",
     "output_type": "stream",
     "text": [
      "U.S. Virgin Islands   1\n",
      "Turks and Caicos Islands   1\n",
      "Louisiana   1\n",
      "Virgin Islands   1\n",
      "Bahamas   2\n",
      "Bermuda   2\n",
      "The Bahamas   7\n",
      "Puerto Rico   1\n",
      "Northeastern United States   2\n",
      "Eastern United States   1\n",
      "United States Gulf Coast (especially Florida Panhandle)   1\n",
      "Virginia   1\n",
      "Colombia   1\n",
      "South Texas   1\n",
      "Mexico   7\n",
      "British Virgin Islands   1\n",
      "Hispaniola   1\n",
      "Antilles   1\n",
      "Midwestern United States   1\n",
      "Greater Antilles   2\n",
      "Tamaulipas   1\n",
      "Southeastern United States   1\n",
      "The Carolinas   1\n",
      "Yucatn Peninsula   3\n",
      "Windward Islands   1\n",
      "Jamaica   4\n",
      "Southwestern Quebec   1\n",
      "Nicaragua   1\n",
      "Cuba   6\n",
      "United States East coast   1\n",
      "Cayman Islands   1\n",
      "Central America   9\n",
      "Florida   6\n",
      "Atlantic Canada   3\n",
      "United States East Coast   3\n",
      "New England   1\n",
      "Georgia   1\n",
      "Honduras   1\n",
      "The Caribbean   8\n",
      "Texas   4\n",
      "United States Gulf Coast   6\n",
      "Ontario   1\n",
      "Dominican Republic   1\n",
      "Cape Verde   1\n",
      "Venezuela   3\n",
      "South Florida   1\n",
      "Lesser Antilles   4\n"
     ]
    }
   ],
   "source": [
    "areas_count_dict = gen_areas_count(areas_affected)\n",
    "\n",
    "for area in areas_count_dict.keys():\n",
    "    print(area,\" \",areas_count_dict[area])"
   ]
  },
  {
   "cell_type": "markdown",
   "id": "0960924c",
   "metadata": {},
   "source": [
    "Write a function that finds the area affected by the most hurricanes, and how often it was hit."
   ]
  },
  {
   "cell_type": "code",
   "execution_count": 11,
   "id": "fed45586",
   "metadata": {},
   "outputs": [],
   "source": [
    "def most_affected_area(dictionary):\n",
    "    count = 0\n",
    "    area = \"\"\n",
    "    for ar in dictionary.keys():\n",
    "        if (dictionary[ar] > count):\n",
    "            area = ar\n",
    "            count = dictionary[ar]\n",
    "    return area, count"
   ]
  },
  {
   "cell_type": "code",
   "execution_count": 12,
   "id": "21a8f494",
   "metadata": {},
   "outputs": [
    {
     "name": "stdout",
     "output_type": "stream",
     "text": [
      "Most affected area\tCount\n",
      "Central America \t 9\n"
     ]
    }
   ],
   "source": [
    "area, count = most_affected_area(areas_count_dict)\n",
    "print(\"Most affected area\\tCount\")\n",
    "print(area,\"\\t\",count)"
   ]
  },
  {
   "cell_type": "markdown",
   "id": "8790f3b4",
   "metadata": {},
   "source": [
    "Write a function that find the hurricane that caused the greatest number of deaths, and how many deaths it caused."
   ]
  },
  {
   "cell_type": "code",
   "execution_count": 13,
   "id": "afcb2462",
   "metadata": {},
   "outputs": [],
   "source": [
    "def most_deaths(hurricanes_dictionary):\n",
    "    deaths = 0\n",
    "    hurricane_name = \"\"\n",
    "    for hurricane in hurricanes_dictionary.keys():\n",
    "        if (hurricanes_dictionary[hurricane][\"Deaths\"] > deaths):\n",
    "            deaths = hurricanes_dictionary[hurricane][\"Deaths\"]\n",
    "            hurricane_name = hurricane\n",
    "    return hurricane_name, deaths"
   ]
  },
  {
   "cell_type": "code",
   "execution_count": 14,
   "id": "76644f34",
   "metadata": {},
   "outputs": [
    {
     "name": "stdout",
     "output_type": "stream",
     "text": [
      "NAME\tDEATHS\n",
      "Mitch\t19325\n"
     ]
    }
   ],
   "source": [
    "name, deaths = most_deaths(hurricanes_dictionary)\n",
    "\n",
    "print(\"NAME\\tDEATHS\")\n",
    "print(name+\"\\t\"+str(deaths))"
   ]
  },
  {
   "cell_type": "markdown",
   "id": "43715d6f",
   "metadata": {},
   "source": [
    "Write a function that relates hurricanes on a mortality scale according the following ratings (*see mortality_scale dictionary*), where the key is the rating and the value is the upper bound of deaths for that rating.  \n",
    "\n",
    "Store the hurricanes in a new dictionary where the keys are mortality ratings and the values are lists containing a dictionary for each hurricane that falls into the mortality rating."
   ]
  },
  {
   "cell_type": "code",
   "execution_count": 15,
   "id": "ab5d2ee7",
   "metadata": {},
   "outputs": [],
   "source": [
    "mortality_scale = {0: 0,\n",
    "                   1: 100,\n",
    "                   2: 500,\n",
    "                   3: 1000,\n",
    "                   4: 10000}\n",
    "def hurricane_mortality(hurr_dict, mortality_scale):\n",
    "    h_mortality = {}\n",
    "    for i in range(len(mortality_scale) + 1):\n",
    "        h_mortality[i] = []\n",
    "    \n",
    "    for hurricane in hurr_dict.keys():\n",
    "        mortality = 0\n",
    "        while (mortality < 5 and hurr_dict[hurricane][\"Deaths\"] > mortality_scale[mortality]):\n",
    "            mortality += 1\n",
    "        h_mortality[mortality].append(hurricane)\n",
    "    \n",
    "    return h_mortality"
   ]
  },
  {
   "cell_type": "code",
   "execution_count": 16,
   "id": "3ba9a3ef",
   "metadata": {},
   "outputs": [
    {
     "name": "stdout",
     "output_type": "stream",
     "text": [
      "MORTALITY RATING (0)\n",
      "MORTALITY RATING (1)\n",
      "Cuba I\n",
      "Bahamas\n",
      "Carol\n",
      "Carla\n",
      "Edith\n",
      "Anita\n",
      "Andrew\n",
      "Isabel\n",
      "Emily\n",
      "Wilma\n",
      "Dean\n",
      "Michael\n",
      "MORTALITY RATING (2)\n",
      "CubaBrownsville\n",
      "Tampico\n",
      "Labor Day\n",
      "Hattie\n",
      "Camille\n",
      "Allen\n",
      "Gilbert\n",
      "Hugo\n",
      "Ivan\n",
      "Rita\n",
      "Felix\n",
      "Irma\n",
      "MORTALITY RATING (3)\n",
      "New England\n",
      "Beulah\n",
      "Matthew\n",
      "MORTALITY RATING (4)\n",
      "San Felipe II Okeechobee\n",
      "Cuba II\n",
      "Janet\n",
      "David\n",
      "Katrina\n",
      "Maria\n",
      "MORTALITY RATING (5)\n",
      "Mitch\n"
     ]
    }
   ],
   "source": [
    "mortality_dict = hurricane_mortality(hurricanes_dictionary, mortality_scale)\n",
    "\n",
    "for size in mortality_dict.keys():\n",
    "    print(\"MORTALITY RATING\", \"(\" + str(size) + \")\")\n",
    "    for hurricane in mortality_dict[size]:\n",
    "        print(hurricane)"
   ]
  },
  {
   "cell_type": "markdown",
   "id": "99c2143f",
   "metadata": {},
   "source": [
    "Write a function that finds the hurriane that caused the greatest damage and how costly it was."
   ]
  },
  {
   "cell_type": "code",
   "execution_count": 29,
   "id": "0e21a368",
   "metadata": {},
   "outputs": [],
   "source": [
    "def most_damage(hurricanes_dictionary):\n",
    "    damage = 0.0\n",
    "    hurricane_name = \"\"\n",
    "    for hurricane in hurricanes_dictionary.keys():\n",
    "#         print(type(hurricanes_dictionary[hurricane][\"Damage\"]),hurricanes_dictionary[hurricane][\"Damage\"])\n",
    "        if (not isinstance(hurricanes_dictionary[hurricane][\"Damage\"], str) and hurricanes_dictionary[hurricane][\"Damage\"] > damage):\n",
    "            damage = hurricanes_dictionary[hurricane][\"Damage\"]\n",
    "            hurricane_name = hurricane\n",
    "    return hurricane_name, damage"
   ]
  },
  {
   "cell_type": "code",
   "execution_count": 31,
   "id": "eb9d0aa1",
   "metadata": {},
   "outputs": [
    {
     "name": "stdout",
     "output_type": "stream",
     "text": [
      "<class 'float'>\n",
      "HURRICANE\tDAMAGE\n",
      "Katrina\t\t125000000000.0\n"
     ]
    }
   ],
   "source": [
    "print(type(hurricanes_dictionary[\"Mitch\"][\"Damage\"]))\n",
    "\n",
    "hur, dmg = most_damage(hurricanes_dictionary)\n",
    "\n",
    "print(\"HURRICANE\\tDAMAGE\")\n",
    "print(hur + \"\\t\\t\" + str(dmg))"
   ]
  },
  {
   "cell_type": "code",
   "execution_count": 39,
   "id": "66fbe580",
   "metadata": {},
   "outputs": [],
   "source": [
    "damage_scale = {0: 0,\n",
    "                1: 100000000,\n",
    "                2: 1000000000,\n",
    "                3: 10000000000,\n",
    "                4: 50000000000}\n",
    "def hurricane_damage(hurr_dict, damage_scale):\n",
    "    h_damage = {}\n",
    "    for i in range(len(damage_scale) + 1):\n",
    "        h_damage[i] = []\n",
    "    \n",
    "    for hurricane in hurr_dict.keys():\n",
    "        dam = 0\n",
    "        if (not isinstance(hurricanes_dictionary[hurricane][\"Damage\"], str)):\n",
    "            while (dam < 5 and hurr_dict[hurricane][\"Damage\"] > mortality_scale[dam]):\n",
    "                dam += 1\n",
    "            h_damage[dam].append(hurricane)\n",
    "    \n",
    "    return h_damage"
   ]
  },
  {
   "cell_type": "code",
   "execution_count": 41,
   "id": "13e5802a",
   "metadata": {},
   "outputs": [
    {
     "name": "stdout",
     "output_type": "stream",
     "text": [
      "\n",
      "DAMAGE RATING (0) \n",
      "\n",
      "\n",
      "DAMAGE RATING (1) \n",
      "\n",
      "Cuba I\n",
      "Bahamas\n",
      "Carol\n",
      "Carla\n",
      "Edith\n",
      "Anita\n",
      "Andrew\n",
      "Isabel\n",
      "Emily\n",
      "Wilma\n",
      "Dean\n",
      "Michael\n",
      "\n",
      "DAMAGE RATING (2) \n",
      "\n",
      "CubaBrownsville\n",
      "Tampico\n",
      "Labor Day\n",
      "Hattie\n",
      "Camille\n",
      "Allen\n",
      "Gilbert\n",
      "Hugo\n",
      "Ivan\n",
      "Rita\n",
      "Felix\n",
      "Irma\n",
      "\n",
      "DAMAGE RATING (3) \n",
      "\n",
      "New England\n",
      "Beulah\n",
      "Matthew\n",
      "\n",
      "DAMAGE RATING (4) \n",
      "\n",
      "San Felipe II Okeechobee\n",
      "Cuba II\n",
      "Janet\n",
      "David\n",
      "Katrina\n",
      "Maria\n",
      "\n",
      "DAMAGE RATING (5) \n",
      "\n",
      "Mitch\n"
     ]
    }
   ],
   "source": [
    "damage_dict = hurricane_damage(hurricanes_dictionary, damage_scale)\n",
    "\n",
    "for size in damage_dict.keys():\n",
    "    print(\"\\nDAMAGE RATING\", \"(\" + str(size) + \")\",\"\\n\")\n",
    "    for hurricane in mortality_dict[size]:\n",
    "        print(hurricane)"
   ]
  },
  {
   "cell_type": "markdown",
   "id": "daa7e786",
   "metadata": {},
   "source": [
    "__End of Project__"
   ]
  }
 ],
 "metadata": {
  "kernelspec": {
   "display_name": "Python 3",
   "language": "python",
   "name": "python3"
  },
  "language_info": {
   "codemirror_mode": {
    "name": "ipython",
    "version": 3
   },
   "file_extension": ".py",
   "mimetype": "text/x-python",
   "name": "python",
   "nbconvert_exporter": "python",
   "pygments_lexer": "ipython3",
   "version": "3.8.10"
  }
 },
 "nbformat": 4,
 "nbformat_minor": 5
}
