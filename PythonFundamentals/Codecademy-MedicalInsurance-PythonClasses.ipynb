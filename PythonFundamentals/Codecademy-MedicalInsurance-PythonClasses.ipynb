{
 "cells": [
  {
   "cell_type": "markdown",
   "id": "6cc296a5",
   "metadata": {},
   "source": [
    "## Copyright 2021 Parker Dunn parker_dunn@outlook.com\n",
    "  \n",
    "#### Alternate: pgdunn@bu.edu & pdunn91@gmail.com   \n",
    "#### November 27th, 2021  \n",
    "  \n",
    "__Career Path: Data Scientist__  \n",
    "__Section: Python Fundamentals__   \n",
    "__Topic: Python Classes__  \n",
    "\n",
    "\n",
    "### Codecademy - Medical Insurance "
   ]
  },
  {
   "cell_type": "markdown",
   "id": "c3807b93",
   "metadata": {},
   "source": [
    "### Assignment Context\n",
    "\n",
    "This mini-project is meant to be a demonstration of some fundamentals of Python. I am trying to complete the data scientist path on Codecademy and practice Python, so I have gone back to some content that I have learned already.\n",
    "\n",
    "### Assignment Description\n",
    "\n",
    "You have been asked to develop a system that makes it easier to organize patient data. YOu will create a `class` that does the following:\n",
    "\n",
    "* Takes in patient parameters regarding their personal information\n",
    "* Contains methods that allow users to update their information\n",
    "* Gives patients insight into their potential medical fees"
   ]
  },
  {
   "cell_type": "code",
   "execution_count": 1,
   "id": "fb0862c3",
   "metadata": {},
   "outputs": [
    {
     "name": "stdout",
     "output_type": "stream",
     "text": [
      "John Doe\n",
      "25\n",
      "1\n",
      "22.2\n",
      "0\n",
      "0\n",
      "John Doe's estimated insurance costs is 1836.0 dollars.\n",
      "John Doe is now 26 years old.\n",
      "John Doe's estimated insurance costs is 2086.0 dollars.\n",
      "John Doe has 1 child.\n",
      "John Doe's estimated insurance costs is 2511.0 dollars.\n",
      "John Doe's estimated insurance costs is 2511.0 dollars.\n",
      "{'Name': 'John Doe', 'Age': 26, 'Sex': 1, 'BMI': 22.2, 'Number_of_Chidren': 1, 'Smoker': 0, 'Insurance_cost': 2511.0}\n"
     ]
    }
   ],
   "source": [
    "class Patient:\n",
    "  def __init__(self, name, age, sex, bmi, num_children, smoke_status):\n",
    "    self.name = name\n",
    "    self.age = age\n",
    "    # add more parameters here\n",
    "    self.sex = sex\n",
    "    self.bmi = bmi\n",
    "    self.num_of_children = num_children\n",
    "    self.smoker = smoke_status\n",
    "\n",
    "  \"\"\" WILL HAVE TO LEARN HOW TO MAKE MORE COMPLEX CONSTRUCTORS\n",
    "      AT SOME POINT \"\"\"\n",
    "  # def __init__(self, patient_attr):\n",
    "  #   self.name = patient_attr[0]\n",
    "  #   self.age = patient_attr[1]\n",
    "  #   self.sex = patient_attr[2]\n",
    "  #   self.bmi = patient_attr[3]\n",
    "  #   self.num_of_children = patient_attr[4]\n",
    "  #   self.smoker = patient_attr[5]\n",
    "  \n",
    "  def estimated_insurance_cost(self):\n",
    "    insurance_cost = 250 * self.age - 128 * self.sex + 370 * self.bmi + 425 * self.num_of_children + 24000 * self.smoker - 12500\n",
    "    print(\"{}'s estimated insurance costs is {} dollars.\".\n",
    "                                format(self.name, insurance_cost))\n",
    "    return insurance_cost\n",
    "  \n",
    "  def update_age(self, new_age):\n",
    "    self.age = new_age\n",
    "    print(\"{} is now {} years old.\".format(self.name, self.age))\n",
    "    self.estimated_insurance_cost()\n",
    "\n",
    "  def update_num_children(self, new_num_children):\n",
    "    self.num_of_children = new_num_children\n",
    "    if (self.num_of_children == 1):\n",
    "      print(\"{} has 1 child.\".format(self.name))\n",
    "    else:\n",
    "      print(\"{} has {} children.\".format(self.name, new_num_children))\n",
    "    insurance_cost = self.estimated_insurance_cost()\n",
    "  \n",
    "  def patient_profile(self):\n",
    "    patient_information = {\"Name\": self.name,\n",
    "                      \"Age\" : self.age,\n",
    "                      \"Sex\" : self.sex,\n",
    "                      \"BMI\" : self.bmi,\n",
    "                      \"Number_of_Chidren\" : self.num_of_children,\n",
    "                      \"Smoker\": self.smoker,\n",
    "                \"Insurance_cost\": self.estimated_insurance_cost()}\n",
    "    return patient_information\n",
    "\n",
    "# creating and testing first instance of Patient\n",
    "patient1 = Patient(\"John Doe\", 25, 1, 22.2, 0, 0)\n",
    "print(patient1.name)\n",
    "print(patient1.age)\n",
    "print(patient1.sex)\n",
    "print(patient1.bmi)\n",
    "print(patient1.num_of_children)\n",
    "print(patient1.smoker)\n",
    "\n",
    "patient1.estimated_insurance_cost()\n",
    "patient1.update_age(26)\n",
    "patient1.update_num_children(1)\n",
    "profile = patient1.patient_profile()\n",
    "print(profile)"
   ]
  }
 ],
 "metadata": {
  "kernelspec": {
   "display_name": "Python 3",
   "language": "python",
   "name": "python3"
  },
  "language_info": {
   "codemirror_mode": {
    "name": "ipython",
    "version": 3
   },
   "file_extension": ".py",
   "mimetype": "text/x-python",
   "name": "python",
   "nbconvert_exporter": "python",
   "pygments_lexer": "ipython3",
   "version": "3.8.10"
  }
 },
 "nbformat": 4,
 "nbformat_minor": 5
}
